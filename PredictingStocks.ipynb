{
 "cells": [
  {
   "cell_type": "code",
   "execution_count": 7,
   "id": "initial_id",
   "metadata": {
    "collapsed": true,
    "ExecuteTime": {
     "end_time": "2023-09-21T15:08:59.325377Z",
     "start_time": "2023-09-21T15:08:58.667521Z"
    }
   },
   "outputs": [
    {
     "data": {
      "text/plain": "                                              reviewText  Positive\n0      This is a one of the best apps acording to a b...         1\n1      This is a pretty good version of the game for ...         1\n2      this is a really cool game. there are a bunch ...         1\n3      This is a silly game and can be frustrating, b...         1\n4      This is a terrific game on any pad. Hrs of fun...         1\n...                                                  ...       ...\n19995  this app is fricken stupid.it froze on the kin...         0\n19996  Please add me!!!!! I need neighbors! Ginger101...         1\n19997  love it!  this game. is awesome. wish it had m...         1\n19998  I love love love this app on my side of fashio...         1\n19999  This game is a rip off. Here is a list of thin...         0\n\n[20000 rows x 2 columns]",
      "text/html": "<div>\n<style scoped>\n    .dataframe tbody tr th:only-of-type {\n        vertical-align: middle;\n    }\n\n    .dataframe tbody tr th {\n        vertical-align: top;\n    }\n\n    .dataframe thead th {\n        text-align: right;\n    }\n</style>\n<table border=\"1\" class=\"dataframe\">\n  <thead>\n    <tr style=\"text-align: right;\">\n      <th></th>\n      <th>reviewText</th>\n      <th>Positive</th>\n    </tr>\n  </thead>\n  <tbody>\n    <tr>\n      <th>0</th>\n      <td>This is a one of the best apps acording to a b...</td>\n      <td>1</td>\n    </tr>\n    <tr>\n      <th>1</th>\n      <td>This is a pretty good version of the game for ...</td>\n      <td>1</td>\n    </tr>\n    <tr>\n      <th>2</th>\n      <td>this is a really cool game. there are a bunch ...</td>\n      <td>1</td>\n    </tr>\n    <tr>\n      <th>3</th>\n      <td>This is a silly game and can be frustrating, b...</td>\n      <td>1</td>\n    </tr>\n    <tr>\n      <th>4</th>\n      <td>This is a terrific game on any pad. Hrs of fun...</td>\n      <td>1</td>\n    </tr>\n    <tr>\n      <th>...</th>\n      <td>...</td>\n      <td>...</td>\n    </tr>\n    <tr>\n      <th>19995</th>\n      <td>this app is fricken stupid.it froze on the kin...</td>\n      <td>0</td>\n    </tr>\n    <tr>\n      <th>19996</th>\n      <td>Please add me!!!!! I need neighbors! Ginger101...</td>\n      <td>1</td>\n    </tr>\n    <tr>\n      <th>19997</th>\n      <td>love it!  this game. is awesome. wish it had m...</td>\n      <td>1</td>\n    </tr>\n    <tr>\n      <th>19998</th>\n      <td>I love love love this app on my side of fashio...</td>\n      <td>1</td>\n    </tr>\n    <tr>\n      <th>19999</th>\n      <td>This game is a rip off. Here is a list of thin...</td>\n      <td>0</td>\n    </tr>\n  </tbody>\n</table>\n<p>20000 rows × 2 columns</p>\n</div>"
     },
     "execution_count": 7,
     "metadata": {},
     "output_type": "execute_result"
    }
   ],
   "source": [
    "# import libraries\n",
    "import pandas as pd\n",
    "import numpy as np\n",
    "import scipy.stats as st\n",
    "import os\n",
    "import matplotlib.pyplot as plt\n",
    "import seaborn as sns\n",
    "import warnings\n",
    "# used to analyse data\n",
    "\n",
    "from nltk.sentiment.vader import SentimentIntensityAnalyzer\n",
    "#a pre-trained model for sentiment analysis\n",
    "\n",
    "from nltk.corpus import stopwords\n",
    "#contains a list of common words that are usually removed from text during processing.\n",
    "\n",
    "from nltk.tokenize import word_tokenize\n",
    "#is used to split text into individual words.\n",
    "\n",
    "from nltk.stem import WordNetLemmatizer\n",
    "#is used to convert words to their base form.\n",
    "\n",
    "\n",
    "\n",
    "\n",
    "# Load the amazon review dataset (need to fix this) \n",
    "\n",
    "df = pd.read_csv('https://raw.githubusercontent.com/pycaret/pycaret/master/datasets/amazon.csv')\n",
    "\n",
    "df"
   ]
  },
  {
   "cell_type": "code",
   "execution_count": 4,
   "outputs": [
    {
     "data": {
      "text/plain": "                                              reviewText  Positive\n0      one best apps acording bunch people agree bomb...         1\n1      pretty good version game free . lot different ...         1\n2      really cool game . bunch level find golden egg...         1\n3      silly game frustrating , lot fun definitely re...         1\n4      terrific game pad . hr fun . grandkids love . ...         1\n...                                                  ...       ...\n19995  app fricken stupid.it froze kindle wont allow ...         0\n19996  please add ! ! ! ! ! need neighbor ! ginger101...         1\n19997  love ! game . awesome . wish free stuff house ...         1\n19998  love love love app side fashion story fight wo...         1\n19999  game rip . list thing make better & bull ; fir...         0\n\n[20000 rows x 2 columns]",
      "text/html": "<div>\n<style scoped>\n    .dataframe tbody tr th:only-of-type {\n        vertical-align: middle;\n    }\n\n    .dataframe tbody tr th {\n        vertical-align: top;\n    }\n\n    .dataframe thead th {\n        text-align: right;\n    }\n</style>\n<table border=\"1\" class=\"dataframe\">\n  <thead>\n    <tr style=\"text-align: right;\">\n      <th></th>\n      <th>reviewText</th>\n      <th>Positive</th>\n    </tr>\n  </thead>\n  <tbody>\n    <tr>\n      <th>0</th>\n      <td>one best apps acording bunch people agree bomb...</td>\n      <td>1</td>\n    </tr>\n    <tr>\n      <th>1</th>\n      <td>pretty good version game free . lot different ...</td>\n      <td>1</td>\n    </tr>\n    <tr>\n      <th>2</th>\n      <td>really cool game . bunch level find golden egg...</td>\n      <td>1</td>\n    </tr>\n    <tr>\n      <th>3</th>\n      <td>silly game frustrating , lot fun definitely re...</td>\n      <td>1</td>\n    </tr>\n    <tr>\n      <th>4</th>\n      <td>terrific game pad . hr fun . grandkids love . ...</td>\n      <td>1</td>\n    </tr>\n    <tr>\n      <th>...</th>\n      <td>...</td>\n      <td>...</td>\n    </tr>\n    <tr>\n      <th>19995</th>\n      <td>app fricken stupid.it froze kindle wont allow ...</td>\n      <td>0</td>\n    </tr>\n    <tr>\n      <th>19996</th>\n      <td>please add ! ! ! ! ! need neighbor ! ginger101...</td>\n      <td>1</td>\n    </tr>\n    <tr>\n      <th>19997</th>\n      <td>love ! game . awesome . wish free stuff house ...</td>\n      <td>1</td>\n    </tr>\n    <tr>\n      <th>19998</th>\n      <td>love love love app side fashion story fight wo...</td>\n      <td>1</td>\n    </tr>\n    <tr>\n      <th>19999</th>\n      <td>game rip . list thing make better &amp; bull ; fir...</td>\n      <td>0</td>\n    </tr>\n  </tbody>\n</table>\n<p>20000 rows × 2 columns</p>\n</div>"
     },
     "execution_count": 4,
     "metadata": {},
     "output_type": "execute_result"
    }
   ],
   "source": [
    "# create preprocess_text function\n",
    "def preprocess_text(text):\n",
    "\n",
    "    # Tokenize the text\n",
    "\n",
    "    tokens = word_tokenize(text.lower())\n",
    "\n",
    "\n",
    "\n",
    "\n",
    "    # Remove stop words\n",
    "\n",
    "    filtered_tokens = [token for token in tokens if token not in stopwords.words('english')]\n",
    "\n",
    "\n",
    "\n",
    "\n",
    "    # Lemmatize the tokens\n",
    "\n",
    "    lemmatizer = WordNetLemmatizer()\n",
    "\n",
    "    lemmatized_tokens = [lemmatizer.lemmatize(token) for token in filtered_tokens]\n",
    "\n",
    "\n",
    "\n",
    "\n",
    "    # Join the tokens back into a string\n",
    "\n",
    "    processed_text = ' '.join(lemmatized_tokens)\n",
    "\n",
    "    return processed_text\n",
    "\n",
    "# apply the function df\n",
    "\n",
    "df['reviewText'] = df['reviewText'].apply(preprocess_text)\n",
    "df"
   ],
   "metadata": {
    "collapsed": false,
    "ExecuteTime": {
     "end_time": "2023-09-21T15:06:10.448645700Z",
     "start_time": "2023-09-21T15:02:44.253215300Z"
    }
   },
   "id": "54cf009ae2ee8a87"
  },
  {
   "cell_type": "code",
   "execution_count": 10,
   "outputs": [
    {
     "name": "stderr",
     "output_type": "stream",
     "text": [
      "[nltk_data] Downloading package vader_lexicon to\n",
      "[nltk_data]     C:\\Users\\gilme\\AppData\\Roaming\\nltk_data...\n"
     ]
    },
    {
     "data": {
      "text/plain": "                                              reviewText  Positive  sentiment\n0      This is a one of the best apps acording to a b...         1          1\n1      This is a pretty good version of the game for ...         1          1\n2      this is a really cool game. there are a bunch ...         1          1\n3      This is a silly game and can be frustrating, b...         1          1\n4      This is a terrific game on any pad. Hrs of fun...         1          1\n...                                                  ...       ...        ...\n19995  this app is fricken stupid.it froze on the kin...         0          0\n19996  Please add me!!!!! I need neighbors! Ginger101...         1          1\n19997  love it!  this game. is awesome. wish it had m...         1          1\n19998  I love love love this app on my side of fashio...         1          1\n19999  This game is a rip off. Here is a list of thin...         0          1\n\n[20000 rows x 3 columns]",
      "text/html": "<div>\n<style scoped>\n    .dataframe tbody tr th:only-of-type {\n        vertical-align: middle;\n    }\n\n    .dataframe tbody tr th {\n        vertical-align: top;\n    }\n\n    .dataframe thead th {\n        text-align: right;\n    }\n</style>\n<table border=\"1\" class=\"dataframe\">\n  <thead>\n    <tr style=\"text-align: right;\">\n      <th></th>\n      <th>reviewText</th>\n      <th>Positive</th>\n      <th>sentiment</th>\n    </tr>\n  </thead>\n  <tbody>\n    <tr>\n      <th>0</th>\n      <td>This is a one of the best apps acording to a b...</td>\n      <td>1</td>\n      <td>1</td>\n    </tr>\n    <tr>\n      <th>1</th>\n      <td>This is a pretty good version of the game for ...</td>\n      <td>1</td>\n      <td>1</td>\n    </tr>\n    <tr>\n      <th>2</th>\n      <td>this is a really cool game. there are a bunch ...</td>\n      <td>1</td>\n      <td>1</td>\n    </tr>\n    <tr>\n      <th>3</th>\n      <td>This is a silly game and can be frustrating, b...</td>\n      <td>1</td>\n      <td>1</td>\n    </tr>\n    <tr>\n      <th>4</th>\n      <td>This is a terrific game on any pad. Hrs of fun...</td>\n      <td>1</td>\n      <td>1</td>\n    </tr>\n    <tr>\n      <th>...</th>\n      <td>...</td>\n      <td>...</td>\n      <td>...</td>\n    </tr>\n    <tr>\n      <th>19995</th>\n      <td>this app is fricken stupid.it froze on the kin...</td>\n      <td>0</td>\n      <td>0</td>\n    </tr>\n    <tr>\n      <th>19996</th>\n      <td>Please add me!!!!! I need neighbors! Ginger101...</td>\n      <td>1</td>\n      <td>1</td>\n    </tr>\n    <tr>\n      <th>19997</th>\n      <td>love it!  this game. is awesome. wish it had m...</td>\n      <td>1</td>\n      <td>1</td>\n    </tr>\n    <tr>\n      <th>19998</th>\n      <td>I love love love this app on my side of fashio...</td>\n      <td>1</td>\n      <td>1</td>\n    </tr>\n    <tr>\n      <th>19999</th>\n      <td>This game is a rip off. Here is a list of thin...</td>\n      <td>0</td>\n      <td>1</td>\n    </tr>\n  </tbody>\n</table>\n<p>20000 rows × 3 columns</p>\n</div>"
     },
     "execution_count": 10,
     "metadata": {},
     "output_type": "execute_result"
    }
   ],
   "source": [
    "# initialize NLTK sentiment analyzer\n",
    "\n",
    "analyzer = SentimentIntensityAnalyzer()\n",
    "\n",
    "\n",
    "# create get_sentiment function\n",
    "\n",
    "def get_sentiment(text):\n",
    "\n",
    "    scores = analyzer.polarity_scores(text)\n",
    "\n",
    "    sentiment = 1 if scores['pos'] > 0 else 0\n",
    "\n",
    "    return sentiment\n",
    "\n",
    "\n",
    "\n",
    "\n",
    "# apply get_sentiment function\n",
    "\n",
    "df['sentiment'] = df['reviewText'].apply(get_sentiment)\n",
    "\n",
    "df"
   ],
   "metadata": {
    "collapsed": false,
    "ExecuteTime": {
     "end_time": "2023-09-21T15:18:09.339940200Z",
     "start_time": "2023-09-21T15:18:00.569684700Z"
    }
   },
   "id": "739151cb796ef87f"
  },
  {
   "cell_type": "code",
   "execution_count": 18,
   "outputs": [
    {
     "name": "stdout",
     "output_type": "stream",
     "text": [
      "              precision    recall  f1-score   support\n",
      "\n",
      "           0       0.69      0.29      0.41      4767\n",
      "           1       0.81      0.96      0.88     15233\n",
      "\n",
      "    accuracy                           0.80     20000\n",
      "   macro avg       0.75      0.62      0.64     20000\n",
      "weighted avg       0.78      0.80      0.77     20000\n"
     ]
    }
   ],
   "source": [
    "from sklearn.metrics import confusion_matrix\n",
    "\n",
    "print(confusion_matrix(df['Positive'], df['sentiment']))"
   ],
   "metadata": {
    "collapsed": false,
    "ExecuteTime": {
     "end_time": "2023-09-21T15:33:53.794469800Z",
     "start_time": "2023-09-21T15:33:53.728046700Z"
    }
   },
   "id": "5ee5c181edd1dbe"
  },
  {
   "cell_type": "code",
   "execution_count": 20,
   "outputs": [
    {
     "name": "stdout",
     "output_type": "stream",
     "text": [
      "[[ 1377  3390]\n",
      " [  620 14613]]\n"
     ]
    }
   ],
   "source": [
    "sns.heatmap(cm,annot=True,cmap='BuPu_r')\n",
    "plt.rcParams[\"figure.figsize\"]=(10,2)\n",
    "plt.xlabel('predicted value')\n",
    "plt.ylabel('species')"
   ],
   "metadata": {
    "collapsed": false,
    "ExecuteTime": {
     "end_time": "2023-09-21T15:39:58.051447100Z",
     "start_time": "2023-09-21T15:39:58.035395300Z"
    }
   },
   "id": "4ce20c352b5d9ab5"
  }
 ],
 "metadata": {
  "kernelspec": {
   "display_name": "Python 3",
   "language": "python",
   "name": "python3"
  },
  "language_info": {
   "codemirror_mode": {
    "name": "ipython",
    "version": 2
   },
   "file_extension": ".py",
   "mimetype": "text/x-python",
   "name": "python",
   "nbconvert_exporter": "python",
   "pygments_lexer": "ipython2",
   "version": "2.7.6"
  }
 },
 "nbformat": 4,
 "nbformat_minor": 5
}
